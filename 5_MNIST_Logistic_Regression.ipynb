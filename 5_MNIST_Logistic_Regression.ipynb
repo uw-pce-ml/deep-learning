{
 "cells": [
  {
   "cell_type": "markdown",
   "metadata": {},
   "source": [
    "# Review: Visualization of MNIST Logistic Regression Weights"
   ]
  },
  {
   "cell_type": "code",
   "execution_count": 1,
   "metadata": {},
   "outputs": [
    {
     "name": "stdout",
     "output_type": "stream",
     "text": [
      "Epoch 1/64\n",
      "469/469 [==============================] - 2s 2ms/step - loss: 1.2658 - accuracy: 0.7039 - val_loss: 0.8077 - val_accuracy: 0.8370\n",
      "Epoch 2/64\n",
      "469/469 [==============================] - 1s 1ms/step - loss: 0.7147 - accuracy: 0.8402 - val_loss: 0.6060 - val_accuracy: 0.8629\n",
      "Epoch 3/64\n",
      "469/469 [==============================] - 1s 1ms/step - loss: 0.5866 - accuracy: 0.8590 - val_loss: 0.5246 - val_accuracy: 0.8745\n",
      "Epoch 4/64\n",
      "469/469 [==============================] - 1s 1ms/step - loss: 0.5252 - accuracy: 0.8691 - val_loss: 0.4793 - val_accuracy: 0.8824\n",
      "Epoch 5/64\n",
      "469/469 [==============================] - 1s 1ms/step - loss: 0.4877 - accuracy: 0.8759 - val_loss: 0.4497 - val_accuracy: 0.8866\n",
      "Epoch 6/64\n",
      "469/469 [==============================] - 1s 1ms/step - loss: 0.4618 - accuracy: 0.8806 - val_loss: 0.4284 - val_accuracy: 0.8903\n",
      "Epoch 7/64\n",
      "469/469 [==============================] - 1s 1ms/step - loss: 0.4426 - accuracy: 0.8840 - val_loss: 0.4121 - val_accuracy: 0.8936\n",
      "Epoch 8/64\n",
      "469/469 [==============================] - 1s 1ms/step - loss: 0.4277 - accuracy: 0.8867 - val_loss: 0.3996 - val_accuracy: 0.8948\n",
      "Epoch 9/64\n",
      "469/469 [==============================] - 1s 1ms/step - loss: 0.4155 - accuracy: 0.8893 - val_loss: 0.3891 - val_accuracy: 0.8964\n",
      "Epoch 10/64\n",
      "469/469 [==============================] - 1s 1ms/step - loss: 0.4055 - accuracy: 0.8912 - val_loss: 0.3803 - val_accuracy: 0.8990\n",
      "Epoch 11/64\n",
      "469/469 [==============================] - 1s 1ms/step - loss: 0.3971 - accuracy: 0.8929 - val_loss: 0.3731 - val_accuracy: 0.9012\n",
      "Epoch 12/64\n",
      "469/469 [==============================] - 1s 1ms/step - loss: 0.3898 - accuracy: 0.8940 - val_loss: 0.3666 - val_accuracy: 0.9029\n",
      "Epoch 13/64\n",
      "469/469 [==============================] - 1s 1ms/step - loss: 0.3834 - accuracy: 0.8956 - val_loss: 0.3611 - val_accuracy: 0.9041\n",
      "Epoch 14/64\n",
      "469/469 [==============================] - 1s 1ms/step - loss: 0.3777 - accuracy: 0.8969 - val_loss: 0.3560 - val_accuracy: 0.9050\n",
      "Epoch 15/64\n",
      "469/469 [==============================] - 1s 1ms/step - loss: 0.3727 - accuracy: 0.8982 - val_loss: 0.3518 - val_accuracy: 0.9060\n",
      "Epoch 16/64\n",
      "469/469 [==============================] - 1s 1ms/step - loss: 0.3682 - accuracy: 0.8989 - val_loss: 0.3479 - val_accuracy: 0.9070\n",
      "Epoch 17/64\n",
      "469/469 [==============================] - 1s 1ms/step - loss: 0.3640 - accuracy: 0.9001 - val_loss: 0.3445 - val_accuracy: 0.9074\n",
      "Epoch 18/64\n",
      "469/469 [==============================] - 1s 1ms/step - loss: 0.3603 - accuracy: 0.9008 - val_loss: 0.3413 - val_accuracy: 0.9079\n",
      "Epoch 19/64\n",
      "469/469 [==============================] - 1s 1ms/step - loss: 0.3569 - accuracy: 0.9017 - val_loss: 0.3382 - val_accuracy: 0.9094\n",
      "Epoch 20/64\n",
      "469/469 [==============================] - 1s 1ms/step - loss: 0.3537 - accuracy: 0.9025 - val_loss: 0.3353 - val_accuracy: 0.9091\n",
      "Epoch 21/64\n",
      "469/469 [==============================] - 1s 1ms/step - loss: 0.3508 - accuracy: 0.9032 - val_loss: 0.3328 - val_accuracy: 0.9107\n",
      "Epoch 22/64\n",
      "469/469 [==============================] - 1s 1ms/step - loss: 0.3480 - accuracy: 0.9039 - val_loss: 0.3303 - val_accuracy: 0.9105\n",
      "Epoch 23/64\n",
      "469/469 [==============================] - 1s 1ms/step - loss: 0.3455 - accuracy: 0.9045 - val_loss: 0.3284 - val_accuracy: 0.9113\n",
      "Epoch 24/64\n",
      "469/469 [==============================] - 1s 1ms/step - loss: 0.3432 - accuracy: 0.9052 - val_loss: 0.3263 - val_accuracy: 0.9119\n",
      "Epoch 25/64\n",
      "469/469 [==============================] - 1s 1ms/step - loss: 0.3409 - accuracy: 0.9055 - val_loss: 0.3247 - val_accuracy: 0.9121\n",
      "Epoch 26/64\n",
      "469/469 [==============================] - 1s 1ms/step - loss: 0.3389 - accuracy: 0.9064 - val_loss: 0.3227 - val_accuracy: 0.9124\n",
      "Epoch 27/64\n",
      "469/469 [==============================] - 1s 1ms/step - loss: 0.3369 - accuracy: 0.9068 - val_loss: 0.3208 - val_accuracy: 0.9133\n",
      "Epoch 28/64\n",
      "469/469 [==============================] - 1s 1ms/step - loss: 0.3350 - accuracy: 0.9071 - val_loss: 0.3191 - val_accuracy: 0.9136\n",
      "Epoch 29/64\n",
      "469/469 [==============================] - 1s 1ms/step - loss: 0.3333 - accuracy: 0.9076 - val_loss: 0.3179 - val_accuracy: 0.9134\n",
      "Epoch 30/64\n",
      "469/469 [==============================] - 1s 1ms/step - loss: 0.3316 - accuracy: 0.9082 - val_loss: 0.3169 - val_accuracy: 0.9127\n",
      "Epoch 31/64\n",
      "469/469 [==============================] - 1s 1ms/step - loss: 0.3300 - accuracy: 0.9083 - val_loss: 0.3155 - val_accuracy: 0.9142\n",
      "Epoch 32/64\n",
      "469/469 [==============================] - 1s 1ms/step - loss: 0.3285 - accuracy: 0.9085 - val_loss: 0.3140 - val_accuracy: 0.9133\n",
      "Epoch 33/64\n",
      "469/469 [==============================] - 1s 1ms/step - loss: 0.3270 - accuracy: 0.9086 - val_loss: 0.3129 - val_accuracy: 0.9144\n",
      "Epoch 34/64\n",
      "469/469 [==============================] - 1s 1ms/step - loss: 0.3256 - accuracy: 0.9092 - val_loss: 0.3118 - val_accuracy: 0.9146\n",
      "Epoch 35/64\n",
      "469/469 [==============================] - 1s 1ms/step - loss: 0.3243 - accuracy: 0.9095 - val_loss: 0.3103 - val_accuracy: 0.9155\n",
      "Epoch 36/64\n",
      "469/469 [==============================] - 1s 1ms/step - loss: 0.3231 - accuracy: 0.9099 - val_loss: 0.3093 - val_accuracy: 0.9155\n",
      "Epoch 37/64\n",
      "469/469 [==============================] - 1s 1ms/step - loss: 0.3218 - accuracy: 0.9102 - val_loss: 0.3085 - val_accuracy: 0.9156\n",
      "Epoch 38/64\n",
      "469/469 [==============================] - 1s 1ms/step - loss: 0.3206 - accuracy: 0.9107 - val_loss: 0.3076 - val_accuracy: 0.9156\n",
      "Epoch 39/64\n",
      "469/469 [==============================] - 1s 1ms/step - loss: 0.3195 - accuracy: 0.9112 - val_loss: 0.3064 - val_accuracy: 0.9165\n",
      "Epoch 40/64\n",
      "469/469 [==============================] - 1s 1ms/step - loss: 0.3184 - accuracy: 0.9113 - val_loss: 0.3057 - val_accuracy: 0.9161\n",
      "Epoch 41/64\n",
      "469/469 [==============================] - 1s 1ms/step - loss: 0.3174 - accuracy: 0.9117 - val_loss: 0.3049 - val_accuracy: 0.9167\n",
      "Epoch 42/64\n",
      "469/469 [==============================] - 1s 1ms/step - loss: 0.3164 - accuracy: 0.9122 - val_loss: 0.3043 - val_accuracy: 0.9165\n",
      "Epoch 43/64\n",
      "469/469 [==============================] - 1s 1ms/step - loss: 0.3154 - accuracy: 0.9122 - val_loss: 0.3035 - val_accuracy: 0.9169\n",
      "Epoch 44/64\n",
      "469/469 [==============================] - 1s 1ms/step - loss: 0.3145 - accuracy: 0.9127 - val_loss: 0.3025 - val_accuracy: 0.9166\n",
      "Epoch 45/64\n",
      "469/469 [==============================] - 1s 1ms/step - loss: 0.3135 - accuracy: 0.9131 - val_loss: 0.3018 - val_accuracy: 0.9175\n",
      "Epoch 46/64\n",
      "469/469 [==============================] - 1s 1ms/step - loss: 0.3127 - accuracy: 0.9131 - val_loss: 0.3017 - val_accuracy: 0.9174\n",
      "Epoch 47/64\n",
      "469/469 [==============================] - 1s 1ms/step - loss: 0.3119 - accuracy: 0.9136 - val_loss: 0.3006 - val_accuracy: 0.9170\n",
      "Epoch 48/64\n",
      "469/469 [==============================] - 1s 1ms/step - loss: 0.3110 - accuracy: 0.9134 - val_loss: 0.2998 - val_accuracy: 0.9172\n",
      "Epoch 49/64\n",
      "469/469 [==============================] - 1s 1ms/step - loss: 0.3102 - accuracy: 0.9141 - val_loss: 0.2991 - val_accuracy: 0.9174\n",
      "Epoch 50/64\n",
      "469/469 [==============================] - 1s 1ms/step - loss: 0.3095 - accuracy: 0.9141 - val_loss: 0.2984 - val_accuracy: 0.9180\n",
      "Epoch 51/64\n",
      "469/469 [==============================] - 1s 1ms/step - loss: 0.3087 - accuracy: 0.9142 - val_loss: 0.2979 - val_accuracy: 0.9181\n",
      "Epoch 52/64\n",
      "469/469 [==============================] - 1s 1ms/step - loss: 0.3080 - accuracy: 0.9144 - val_loss: 0.2975 - val_accuracy: 0.9177\n",
      "Epoch 53/64\n",
      "469/469 [==============================] - 1s 1ms/step - loss: 0.3073 - accuracy: 0.9146 - val_loss: 0.2969 - val_accuracy: 0.9181\n",
      "Epoch 54/64\n",
      "469/469 [==============================] - 1s 1ms/step - loss: 0.3066 - accuracy: 0.9149 - val_loss: 0.2965 - val_accuracy: 0.9181\n",
      "Epoch 55/64\n",
      "469/469 [==============================] - 1s 1ms/step - loss: 0.3059 - accuracy: 0.9151 - val_loss: 0.2958 - val_accuracy: 0.9182\n",
      "Epoch 56/64\n",
      "469/469 [==============================] - 1s 1ms/step - loss: 0.3052 - accuracy: 0.9153 - val_loss: 0.2955 - val_accuracy: 0.9181\n",
      "Epoch 57/64\n",
      "469/469 [==============================] - 1s 1ms/step - loss: 0.3046 - accuracy: 0.9154 - val_loss: 0.2948 - val_accuracy: 0.9183\n",
      "Epoch 58/64\n"
     ]
    },
    {
     "name": "stdout",
     "output_type": "stream",
     "text": [
      "469/469 [==============================] - 1s 1ms/step - loss: 0.3040 - accuracy: 0.9157 - val_loss: 0.2944 - val_accuracy: 0.9184\n",
      "Epoch 59/64\n",
      "469/469 [==============================] - 1s 1ms/step - loss: 0.3034 - accuracy: 0.9159 - val_loss: 0.2937 - val_accuracy: 0.9184\n",
      "Epoch 60/64\n",
      "469/469 [==============================] - 1s 1ms/step - loss: 0.3028 - accuracy: 0.9159 - val_loss: 0.2935 - val_accuracy: 0.9190\n",
      "Epoch 61/64\n",
      "469/469 [==============================] - 1s 1ms/step - loss: 0.3022 - accuracy: 0.9160 - val_loss: 0.2932 - val_accuracy: 0.9187\n",
      "Epoch 62/64\n",
      "469/469 [==============================] - 1s 1ms/step - loss: 0.3017 - accuracy: 0.9161 - val_loss: 0.2927 - val_accuracy: 0.9186\n",
      "Epoch 63/64\n",
      "469/469 [==============================] - 1s 1ms/step - loss: 0.3011 - accuracy: 0.9164 - val_loss: 0.2922 - val_accuracy: 0.9189\n",
      "Epoch 64/64\n",
      "469/469 [==============================] - 1s 1ms/step - loss: 0.3006 - accuracy: 0.9166 - val_loss: 0.2920 - val_accuracy: 0.9194\n"
     ]
    },
    {
     "data": {
      "text/plain": [
       "<keras.callbacks.History at 0x7fb55417e7c0>"
      ]
     },
     "execution_count": 1,
     "metadata": {},
     "output_type": "execute_result"
    }
   ],
   "source": [
    "# Build a logistic regression model for the MNIST data\n",
    "import numpy as np\n",
    "import tensorflow as tf\n",
    "from tensorflow.keras import datasets, models, layers, optimizers, callbacks\n",
    "tf.random.set_seed(1)\n",
    "(trnX, trnY), (tstX, tstY) = datasets.mnist.load_data()\n",
    "trnX = trnX.reshape(trnX.shape[0], trnX.shape[1] * trnX.shape[2]).astype('float32') / 255\n",
    "tstX = tstX.reshape(tstX.shape[0], tstX.shape[1] * tstX.shape[2]).astype('float32') / 255\n",
    "model = models.Sequential([ layers.Dense(10, activation = \"softmax\")])\n",
    "model.compile(optimizer = \"sgd\", loss = \"sparse_categorical_crossentropy\", metrics = [ \"accuracy\" ])\n",
    "callbacks = [ callbacks.EarlyStopping(monitor = \"val_accuracy\", patience = 8, restore_best_weights = True) ]\n",
    "model.fit(x = trnX, y = trnY, validation_data = (tstX, tstY), epochs = 64, batch_size = 128, callbacks = callbacks)"
   ]
  },
  {
   "cell_type": "code",
   "execution_count": 2,
   "metadata": {},
   "outputs": [
    {
     "data": {
      "image/png": "[encoded data removed]",
      "text/plain": [
       "<Figure size 432x288 with 10 Axes>"
      ]
     },
     "metadata": {},
     "output_type": "display_data"
    }
   ],
   "source": [
    "# Visualize the logistic regression weights for each class\n",
    "W = model.get_weights()[0]\n",
    "import matplotlib as mpl\n",
    "import matplotlib.pyplot as plt\n",
    "%matplotlib inline\n",
    "for i in range(W.shape[1]):\n",
    "    ax = plt.subplot(2, 5, i + 1)\n",
    "    ax.set_xticks([])\n",
    "    ax.set_yticks([])\n",
    "    neuron_reshaped = W[:,i].reshape(28, 28)\n",
    "    plt.imshow(neuron_reshaped, cmap = \"gray\")\n",
    "plt.show()"
   ]
  }
 ],
 "metadata": {
  "kernelspec": {
   "display_name": "Python 3",
   "language": "python",
   "name": "python3"
  },
  "language_info": {
   "codemirror_mode": {
    "name": "ipython",
    "version": 3
   },
   "file_extension": ".py",
   "mimetype": "text/x-python",
   "name": "python",
   "nbconvert_exporter": "python",
   "pygments_lexer": "ipython3",
   "version": "3.8.10"
  }
 },
 "nbformat": 4,
 "nbformat_minor": 4
}
