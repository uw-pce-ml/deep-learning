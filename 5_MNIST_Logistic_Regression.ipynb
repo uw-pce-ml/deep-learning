{
 "cells": [
  {
   "cell_type": "markdown",
   "metadata": {},
   "source": [
    "# Review: Visualization of MNIST Logistic Regression Weights"
   ]
  },
  {
   "cell_type": "code",
   "execution_count": 1,
   "metadata": {},
   "outputs": [
    {
     "name": "stdout",
     "output_type": "stream",
     "text": [
      "Epoch 1/64\n",
      "1688/1688 [==============================] - 3s 1ms/step - loss: 0.8122 - accuracy: 0.8084 - val_loss: 0.4471 - val_accuracy: 0.8972\n",
      "Epoch 2/64\n",
      "1688/1688 [==============================] - 2s 1ms/step - loss: 0.4760 - accuracy: 0.8765 - val_loss: 0.3636 - val_accuracy: 0.9075\n",
      "Epoch 3/64\n",
      "1688/1688 [==============================] - 2s 1ms/step - loss: 0.4187 - accuracy: 0.8881 - val_loss: 0.3307 - val_accuracy: 0.9132\n",
      "Epoch 4/64\n",
      "1688/1688 [==============================] - 2s 1ms/step - loss: 0.3902 - accuracy: 0.8937 - val_loss: 0.3126 - val_accuracy: 0.9187\n",
      "Epoch 5/64\n",
      "1688/1688 [==============================] - 2s 1ms/step - loss: 0.3723 - accuracy: 0.8981 - val_loss: 0.3001 - val_accuracy: 0.9200\n",
      "Epoch 6/64\n",
      "1688/1688 [==============================] - 2s 1ms/step - loss: 0.3594 - accuracy: 0.9006 - val_loss: 0.2917 - val_accuracy: 0.9208\n",
      "Epoch 7/64\n",
      "1688/1688 [==============================] - 2s 1ms/step - loss: 0.3498 - accuracy: 0.9029 - val_loss: 0.2848 - val_accuracy: 0.9245\n",
      "Epoch 8/64\n",
      "1688/1688 [==============================] - 2s 1ms/step - loss: 0.3422 - accuracy: 0.9053 - val_loss: 0.2792 - val_accuracy: 0.9238\n",
      "Epoch 9/64\n",
      "1688/1688 [==============================] - 2s 1ms/step - loss: 0.3360 - accuracy: 0.9067 - val_loss: 0.2756 - val_accuracy: 0.9243\n",
      "Epoch 10/64\n",
      "1688/1688 [==============================] - 2s 1ms/step - loss: 0.3308 - accuracy: 0.9074 - val_loss: 0.2713 - val_accuracy: 0.9258\n",
      "Epoch 11/64\n",
      "1688/1688 [==============================] - 2s 1ms/step - loss: 0.3264 - accuracy: 0.9090 - val_loss: 0.2690 - val_accuracy: 0.9253\n",
      "Epoch 12/64\n",
      "1688/1688 [==============================] - 2s 1ms/step - loss: 0.3225 - accuracy: 0.9096 - val_loss: 0.2660 - val_accuracy: 0.9268\n",
      "Epoch 13/64\n",
      "1688/1688 [==============================] - 2s 1ms/step - loss: 0.3191 - accuracy: 0.9113 - val_loss: 0.2637 - val_accuracy: 0.9275\n",
      "Epoch 14/64\n",
      "1688/1688 [==============================] - 2s 1ms/step - loss: 0.3160 - accuracy: 0.9119 - val_loss: 0.2612 - val_accuracy: 0.9275\n",
      "Epoch 15/64\n",
      "1688/1688 [==============================] - 2s 1ms/step - loss: 0.3132 - accuracy: 0.9129 - val_loss: 0.2596 - val_accuracy: 0.9293\n",
      "Epoch 16/64\n",
      "1688/1688 [==============================] - 2s 1ms/step - loss: 0.3108 - accuracy: 0.9131 - val_loss: 0.2583 - val_accuracy: 0.9282\n",
      "Epoch 17/64\n",
      "1688/1688 [==============================] - 2s 1ms/step - loss: 0.3086 - accuracy: 0.9138 - val_loss: 0.2565 - val_accuracy: 0.9292\n",
      "Epoch 18/64\n",
      "1688/1688 [==============================] - 2s 1ms/step - loss: 0.3065 - accuracy: 0.9145 - val_loss: 0.2555 - val_accuracy: 0.9298\n",
      "Epoch 19/64\n",
      "1688/1688 [==============================] - 2s 1ms/step - loss: 0.3046 - accuracy: 0.9154 - val_loss: 0.2534 - val_accuracy: 0.9297\n",
      "Epoch 20/64\n",
      "1688/1688 [==============================] - 2s 1ms/step - loss: 0.3028 - accuracy: 0.9156 - val_loss: 0.2533 - val_accuracy: 0.9293\n",
      "Epoch 21/64\n",
      "1688/1688 [==============================] - 2s 1ms/step - loss: 0.3012 - accuracy: 0.9157 - val_loss: 0.2516 - val_accuracy: 0.9315\n",
      "Epoch 22/64\n",
      "1688/1688 [==============================] - 2s 1ms/step - loss: 0.2997 - accuracy: 0.9164 - val_loss: 0.2505 - val_accuracy: 0.9302\n",
      "Epoch 23/64\n",
      "1688/1688 [==============================] - 2s 1ms/step - loss: 0.2982 - accuracy: 0.9173 - val_loss: 0.2498 - val_accuracy: 0.9290\n",
      "Epoch 24/64\n",
      "1688/1688 [==============================] - 2s 1ms/step - loss: 0.2970 - accuracy: 0.9170 - val_loss: 0.2486 - val_accuracy: 0.9315\n",
      "Epoch 25/64\n",
      "1688/1688 [==============================] - 2s 1ms/step - loss: 0.2956 - accuracy: 0.9175 - val_loss: 0.2482 - val_accuracy: 0.9322\n",
      "Epoch 26/64\n",
      "1688/1688 [==============================] - 2s 1ms/step - loss: 0.2946 - accuracy: 0.9180 - val_loss: 0.2468 - val_accuracy: 0.9332\n",
      "Epoch 27/64\n",
      "1688/1688 [==============================] - 2s 1ms/step - loss: 0.2935 - accuracy: 0.9180 - val_loss: 0.2462 - val_accuracy: 0.9315\n",
      "Epoch 28/64\n",
      "1688/1688 [==============================] - 2s 1ms/step - loss: 0.2924 - accuracy: 0.9182 - val_loss: 0.2455 - val_accuracy: 0.9322\n",
      "Epoch 29/64\n",
      "1688/1688 [==============================] - 2s 1ms/step - loss: 0.2913 - accuracy: 0.9184 - val_loss: 0.2453 - val_accuracy: 0.9317\n",
      "Epoch 30/64\n",
      "1688/1688 [==============================] - 2s 1ms/step - loss: 0.2904 - accuracy: 0.9187 - val_loss: 0.2442 - val_accuracy: 0.9320\n",
      "Epoch 31/64\n",
      "1688/1688 [==============================] - 2s 1ms/step - loss: 0.2894 - accuracy: 0.9191 - val_loss: 0.2440 - val_accuracy: 0.9327\n",
      "Epoch 32/64\n",
      "1688/1688 [==============================] - 2s 1ms/step - loss: 0.2886 - accuracy: 0.9194 - val_loss: 0.2437 - val_accuracy: 0.9338\n",
      "Epoch 33/64\n",
      "1688/1688 [==============================] - 2s 1ms/step - loss: 0.2878 - accuracy: 0.9195 - val_loss: 0.2428 - val_accuracy: 0.9327\n",
      "Epoch 34/64\n",
      "1688/1688 [==============================] - 2s 1ms/step - loss: 0.2869 - accuracy: 0.9202 - val_loss: 0.2429 - val_accuracy: 0.9327\n",
      "Epoch 35/64\n",
      "1688/1688 [==============================] - 2s 1ms/step - loss: 0.2862 - accuracy: 0.9200 - val_loss: 0.2418 - val_accuracy: 0.9333\n",
      "Epoch 36/64\n",
      "1688/1688 [==============================] - 2s 1ms/step - loss: 0.2854 - accuracy: 0.9207 - val_loss: 0.2414 - val_accuracy: 0.9330\n",
      "Epoch 37/64\n",
      "1688/1688 [==============================] - 2s 1ms/step - loss: 0.2847 - accuracy: 0.9205 - val_loss: 0.2412 - val_accuracy: 0.9345\n",
      "Epoch 38/64\n",
      "1688/1688 [==============================] - 2s 1ms/step - loss: 0.2840 - accuracy: 0.9211 - val_loss: 0.2407 - val_accuracy: 0.9348\n",
      "Epoch 39/64\n",
      "1688/1688 [==============================] - 2s 1ms/step - loss: 0.2834 - accuracy: 0.9209 - val_loss: 0.2400 - val_accuracy: 0.9337\n",
      "Epoch 40/64\n",
      "1688/1688 [==============================] - 2s 1ms/step - loss: 0.2827 - accuracy: 0.9215 - val_loss: 0.2399 - val_accuracy: 0.9328\n",
      "Epoch 41/64\n",
      "1688/1688 [==============================] - 2s 1ms/step - loss: 0.2821 - accuracy: 0.9215 - val_loss: 0.2392 - val_accuracy: 0.9340\n",
      "Epoch 42/64\n",
      "1688/1688 [==============================] - 2s 1ms/step - loss: 0.2817 - accuracy: 0.9217 - val_loss: 0.2394 - val_accuracy: 0.9348\n",
      "Epoch 43/64\n",
      "1688/1688 [==============================] - 2s 1ms/step - loss: 0.2810 - accuracy: 0.9220 - val_loss: 0.2388 - val_accuracy: 0.9335\n",
      "Epoch 44/64\n",
      "1688/1688 [==============================] - 2s 1ms/step - loss: 0.2806 - accuracy: 0.9221 - val_loss: 0.2382 - val_accuracy: 0.9348\n",
      "Epoch 45/64\n",
      "1688/1688 [==============================] - 2s 1ms/step - loss: 0.2799 - accuracy: 0.9223 - val_loss: 0.2380 - val_accuracy: 0.9350\n",
      "Epoch 46/64\n",
      "1688/1688 [==============================] - 2s 1ms/step - loss: 0.2794 - accuracy: 0.9225 - val_loss: 0.2379 - val_accuracy: 0.9345\n",
      "Epoch 47/64\n",
      "1688/1688 [==============================] - 2s 1ms/step - loss: 0.2789 - accuracy: 0.9227 - val_loss: 0.2374 - val_accuracy: 0.9355\n",
      "Epoch 48/64\n",
      "1688/1688 [==============================] - 2s 1ms/step - loss: 0.2784 - accuracy: 0.9229 - val_loss: 0.2378 - val_accuracy: 0.9350\n",
      "Epoch 49/64\n",
      "1688/1688 [==============================] - 2s 1ms/step - loss: 0.2778 - accuracy: 0.9225 - val_loss: 0.2368 - val_accuracy: 0.9350\n",
      "Epoch 50/64\n",
      "1688/1688 [==============================] - 2s 1ms/step - loss: 0.2774 - accuracy: 0.9230 - val_loss: 0.2366 - val_accuracy: 0.9342\n",
      "Epoch 51/64\n",
      "1688/1688 [==============================] - 2s 1ms/step - loss: 0.2770 - accuracy: 0.9235 - val_loss: 0.2365 - val_accuracy: 0.9352\n",
      "Epoch 52/64\n",
      "1688/1688 [==============================] - 2s 1ms/step - loss: 0.2766 - accuracy: 0.9232 - val_loss: 0.2365 - val_accuracy: 0.9355\n",
      "Epoch 53/64\n",
      "1688/1688 [==============================] - 2s 1ms/step - loss: 0.2761 - accuracy: 0.9230 - val_loss: 0.2360 - val_accuracy: 0.9362\n",
      "Epoch 54/64\n",
      "1688/1688 [==============================] - 2s 1ms/step - loss: 0.2757 - accuracy: 0.9233 - val_loss: 0.2355 - val_accuracy: 0.9362\n",
      "Epoch 55/64\n",
      "1688/1688 [==============================] - 2s 1ms/step - loss: 0.2753 - accuracy: 0.9238 - val_loss: 0.2360 - val_accuracy: 0.9367\n",
      "Epoch 56/64\n",
      "1688/1688 [==============================] - 2s 1ms/step - loss: 0.2749 - accuracy: 0.9234 - val_loss: 0.2356 - val_accuracy: 0.9365\n",
      "Epoch 57/64\n"
     ]
    },
    {
     "name": "stdout",
     "output_type": "stream",
     "text": [
      "1688/1688 [==============================] - 2s 1ms/step - loss: 0.2745 - accuracy: 0.9235 - val_loss: 0.2354 - val_accuracy: 0.9365\n",
      "Epoch 58/64\n",
      "1688/1688 [==============================] - 2s 1ms/step - loss: 0.2742 - accuracy: 0.9237 - val_loss: 0.2349 - val_accuracy: 0.9363\n",
      "Epoch 59/64\n",
      "1688/1688 [==============================] - 2s 1ms/step - loss: 0.2738 - accuracy: 0.9240 - val_loss: 0.2350 - val_accuracy: 0.9362\n",
      "Epoch 60/64\n",
      "1688/1688 [==============================] - 2s 1ms/step - loss: 0.2734 - accuracy: 0.9239 - val_loss: 0.2345 - val_accuracy: 0.9352\n",
      "Epoch 61/64\n",
      "1688/1688 [==============================] - 2s 1ms/step - loss: 0.2730 - accuracy: 0.9239 - val_loss: 0.2348 - val_accuracy: 0.9373\n",
      "Epoch 62/64\n",
      "1688/1688 [==============================] - 2s 1ms/step - loss: 0.2728 - accuracy: 0.9246 - val_loss: 0.2344 - val_accuracy: 0.9360\n",
      "Epoch 63/64\n",
      "1688/1688 [==============================] - 2s 1ms/step - loss: 0.2723 - accuracy: 0.9246 - val_loss: 0.2338 - val_accuracy: 0.9363\n",
      "Epoch 64/64\n",
      "1688/1688 [==============================] - 2s 1ms/step - loss: 0.2721 - accuracy: 0.9245 - val_loss: 0.2338 - val_accuracy: 0.9360\n",
      "313/313 [==============================] - 0s 873us/step - loss: 0.2713 - accuracy: 0.9228\n"
     ]
    },
    {
     "data": {
      "text/plain": [
       "[0.27131056785583496, 0.9228000044822693]"
      ]
     },
     "execution_count": 1,
     "metadata": {},
     "output_type": "execute_result"
    }
   ],
   "source": [
    "# Build a logistic regression model for the MNIST data\n",
    "import tensorflow as tf\n",
    "from tensorflow.keras import datasets, models, layers, regularizers, callbacks\n",
    "tf.random.set_seed(1)\n",
    "(trnX, trnY), (tstX, tstY) = datasets.mnist.load_data()\n",
    "trnX = trnX.reshape(trnX.shape[0], trnX.shape[1] * trnX.shape[2]).astype('float32') / 255\n",
    "tstX = tstX.reshape(tstX.shape[0], tstX.shape[1] * tstX.shape[2]).astype('float32') / 255\n",
    "model = models.Sequential([ layers.Dense(10, activation = \"softmax\")])\n",
    "model.compile(optimizer = \"sgd\", loss = \"sparse_categorical_crossentropy\", metrics = [ \"accuracy\" ])\n",
    "callbacks = [ callbacks.EarlyStopping(monitor = \"val_accuracy\", patience = 8, restore_best_weights = True) ]\n",
    "model.fit(x = trnX, y = trnY, validation_split = 0.1, epochs = 64, callbacks = callbacks)\n",
    "model.evaluate(tstX, tstY)"
   ]
  },
  {
   "cell_type": "code",
   "execution_count": 2,
   "metadata": {},
   "outputs": [
    {
     "data": {
      "image/png": "[encoded data removed]",
      "text/plain": [
       "<Figure size 432x288 with 10 Axes>"
      ]
     },
     "metadata": {},
     "output_type": "display_data"
    }
   ],
   "source": [
    "# Visualize the logistic regression weights for each class\n",
    "W = model.get_weights()[0]\n",
    "import matplotlib as mpl\n",
    "import matplotlib.pyplot as plt\n",
    "%matplotlib inline\n",
    "for i in range(W.shape[1]):\n",
    "    ax = plt.subplot(2, 5, i + 1)\n",
    "    ax.set_xticks([])\n",
    "    ax.set_yticks([])\n",
    "    neuron_reshaped = W[:,i].reshape(28, 28)\n",
    "    plt.imshow(neuron_reshaped, cmap = \"gray\")\n",
    "plt.show()"
   ]
  }
 ],
 "metadata": {
  "kernelspec": {
   "display_name": "Python 3",
   "language": "python",
   "name": "python3"
  },
  "language_info": {
   "codemirror_mode": {
    "name": "ipython",
    "version": 3
   },
   "file_extension": ".py",
   "mimetype": "text/x-python",
   "name": "python",
   "nbconvert_exporter": "python",
   "pygments_lexer": "ipython3",
   "version": "3.8.10"
  }
 },
 "nbformat": 4,
 "nbformat_minor": 4
}
