{
 "cells": [
  {
   "cell_type": "markdown",
   "metadata": {},
   "source": [
    "CPU: Rolled vs Unrolled Loops\n",
    "======"
   ]
  },
  {
   "cell_type": "code",
   "execution_count": 1,
   "metadata": {},
   "outputs": [],
   "source": [
    "import numpy as np\n",
    "import time"
   ]
  },
  {
   "cell_type": "code",
   "execution_count": 2,
   "metadata": {},
   "outputs": [],
   "source": [
    "iterations = 10\n",
    "X = np.random.random((4096, 1024)).astype('float32')\n",
    "W256 = np.random.random((1024, 256)).astype('float32')"
   ]
  },
  {
   "cell_type": "code",
   "execution_count": 3,
   "metadata": {},
   "outputs": [],
   "source": [
    "def MeanAndStandardError(sum_x, sum_x_squared, n):\n",
    "    mean = sum_x / n\n",
    "    mean_squared = sum_x_squared / n\n",
    "    population_variance = mean_squared - (mean**2)\n",
    "    sample_variance = (n / (n - 1)) * population_variance\n",
    "    standard_error_of_mean = np.sqrt(sample_variance / n)\n",
    "    # var((1/n) * x) = ((1/n)**2) * var(x)    [for 1 observation]\n",
    "    # n * var(x) / (n**2) = var(x) / n    [for n observations]\n",
    "    return (mean, standard_error_of_mean)"
   ]
  },
  {
   "cell_type": "code",
   "execution_count": 4,
   "metadata": {},
   "outputs": [
    {
     "name": "stdout",
     "output_type": "stream",
     "text": [
      "249.84029 (3.290670942980796, 0.0060688748885015095)\n"
     ]
    }
   ],
   "source": [
    "# rolled loop: 1 accumulator: Z[i,j]\n",
    "W = np.expand_dims(W256[:, 0], axis = 1)    # only 1 feature\n",
    "cumulative_elapsed_time = 0.0\n",
    "cumulative_elapsed_time_squared = 0.0\n",
    "for iteration in range(iterations):\n",
    "    Z = np.zeros((X.shape[0], W.shape[1])).astype('float32')\n",
    "    start_time = time.perf_counter()\n",
    "    for i in range(Z.shape[0]):\n",
    "        for j in range(Z.shape[1]):\n",
    "            k = 0\n",
    "            while (k < X.shape[1]):\n",
    "                Z[i, j] += (X[i, k] * W[k, j])\n",
    "                k += 1\n",
    "    elapsed_time = (time.perf_counter() - start_time)\n",
    "    cumulative_elapsed_time += elapsed_time\n",
    "    cumulative_elapsed_time_squared += (elapsed_time**2)\n",
    "print(Z[-1, 0], MeanAndStandardError(cumulative_elapsed_time, cumulative_elapsed_time_squared, iterations))"
   ]
  },
  {
   "cell_type": "code",
   "execution_count": 5,
   "metadata": {},
   "outputs": [
    {
     "name": "stdout",
     "output_type": "stream",
     "text": [
      "249.84035 (2.2719831331749445, 0.005825099914086097)\n"
     ]
    }
   ],
   "source": [
    "# unrolled loop: 4 accumulators { dot_product0, dot_product1, dot_product2, dot_product }\n",
    "cumulative_elapsed_time = 0.0\n",
    "cumulative_elapsed_time_squared = 0.0\n",
    "for iteration in range(iterations):\n",
    "    Z = np.zeros((X.shape[0], W.shape[1])).astype('float32')\n",
    "    start_time = time.perf_counter()\n",
    "    for i in range(Z.shape[0]):\n",
    "        for j in range(Z.shape[1]):\n",
    "            dot_product0 = np.float32(0)\n",
    "            dot_product1 = np.float32(0)\n",
    "            dot_product2 = np.float32(0)\n",
    "            dot_product3 = np.float32(0)\n",
    "            k = 0\n",
    "            while (k < X.shape[1]):\n",
    "                dot_product0 += (X[i, k + 0] * W[k + 0, j])\n",
    "                dot_product1 += (X[i, k + 1] * W[k + 1, j])\n",
    "                dot_product2 += (X[i, k + 2] * W[k + 2, j])\n",
    "                dot_product3 += (X[i, k + 3] * W[k + 3, j])\n",
    "                k += 4\n",
    "            Z[i, j] = dot_product0 + dot_product1 + dot_product2 + dot_product3\n",
    "    elapsed_time = (time.perf_counter() - start_time)\n",
    "    cumulative_elapsed_time += elapsed_time\n",
    "    cumulative_elapsed_time_squared += (elapsed_time**2)\n",
    "print(Z[-1, 0], MeanAndStandardError(cumulative_elapsed_time, cumulative_elapsed_time_squared, iterations))"
   ]
  },
  {
   "cell_type": "markdown",
   "metadata": {},
   "source": [
    "CPU vs GPU\n",
    "======"
   ]
  },
  {
   "cell_type": "code",
   "execution_count": 6,
   "metadata": {},
   "outputs": [
    {
     "name": "stdout",
     "output_type": "stream",
     "text": [
      "LogicalDevice(name='/device:CPU:0', device_type='CPU')\n",
      "1/1 [==============================] - 0s 84ms/step\n",
      "1/1 [==============================] - 0s 40ms/step\n",
      "1/1 [==============================] - 0s 36ms/step\n",
      "1/1 [==============================] - 0s 39ms/step\n",
      "1/1 [==============================] - 0s 40ms/step\n",
      "1/1 [==============================] - 0s 42ms/step\n",
      "1/1 [==============================] - 0s 31ms/step\n",
      "1/1 [==============================] - 0s 39ms/step\n",
      "1/1 [==============================] - 0s 41ms/step\n",
      "1/1 [==============================] - 0s 32ms/step\n",
      "1/1 [==============================] - 0s 40ms/step\n",
      "249.84029 (0.05882289730943739, 0.0012454675702734093)\n",
      "LogicalDevice(name='/device:GPU:0', device_type='GPU')\n",
      "1/1 [==============================] - 1s 705ms/step\n",
      "1/1 [==============================] - 0s 19ms/step\n",
      "1/1 [==============================] - 0s 19ms/step\n",
      "1/1 [==============================] - 0s 23ms/step\n",
      "1/1 [==============================] - 0s 23ms/step\n",
      "1/1 [==============================] - 0s 22ms/step\n",
      "1/1 [==============================] - 0s 22ms/step\n",
      "1/1 [==============================] - 0s 23ms/step\n",
      "1/1 [==============================] - 0s 23ms/step\n",
      "1/1 [==============================] - 0s 22ms/step\n",
      "1/1 [==============================] - 0s 18ms/step\n",
      "249.83072 (0.05133588059106842, 0.0012193925211895044)\n"
     ]
    }
   ],
   "source": [
    "W = W256    # 256 features instead of 1\n",
    "import tensorflow as tf\n",
    "from tensorflow.keras import Sequential, layers, initializers\n",
    "tf.config.threading.set_inter_op_parallelism_threads(1)\n",
    "tf.config.threading.set_intra_op_parallelism_threads(1)    # only 1 thread\n",
    "devices = tf.config.list_logical_devices()\n",
    "for device in devices:\n",
    "    print(device)\n",
    "    with tf.device(device.name):\n",
    "        model = Sequential()\n",
    "        model.add(layers.Dense(W.shape[1], input_shape = (W.shape[0],), kernel_initializer = initializers.constant(W), use_bias = False))\n",
    "        Z = model.predict(X, batch_size = X.shape[0])    # initialization\n",
    "        cumulative_elapsed_time = 0.0\n",
    "        cumulative_elapsed_time_squared = 0.0\n",
    "        for iteration in range(iterations):\n",
    "            start_time = time.perf_counter()\n",
    "            Z = model.predict(X, batch_size = X.shape[0])\n",
    "            elapsed_time = (time.perf_counter() - start_time)\n",
    "            cumulative_elapsed_time += elapsed_time\n",
    "            cumulative_elapsed_time_squared += (elapsed_time**2)\n",
    "        print(Z[-1, 0], MeanAndStandardError(cumulative_elapsed_time, cumulative_elapsed_time_squared, iterations))\n"
   ]
  }
 ],
 "metadata": {
  "kernelspec": {
   "display_name": "Python 3",
   "language": "python",
   "name": "python3"
  },
  "language_info": {
   "codemirror_mode": {
    "name": "ipython",
    "version": 3
   },
   "file_extension": ".py",
   "mimetype": "text/x-python",
   "name": "python",
   "nbconvert_exporter": "python",
   "pygments_lexer": "ipython3",
   "version": "3.8.10"
  }
 },
 "nbformat": 4,
 "nbformat_minor": 4
}
